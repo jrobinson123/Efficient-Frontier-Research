{
  "nbformat": 4,
  "nbformat_minor": 0,
  "metadata": {
    "colab": {
      "provenance": []
    },
    "kernelspec": {
      "name": "python3",
      "display_name": "Python 3"
    },
    "language_info": {
      "name": "python"
    }
  },
  "cells": [
    {
      "cell_type": "code",
      "source": [
        "!pip install yfinance --upgrade --no-cache-dir"
      ],
      "metadata": {
        "colab": {
          "base_uri": "https://localhost:8080/"
        },
        "id": "IA-57pjCfgll",
        "outputId": "e8b4b2cc-b6f3-4de1-9c44-7c4cf8520a76"
      },
      "execution_count": null,
      "outputs": [
        {
          "output_type": "stream",
          "name": "stdout",
          "text": [
            "Looking in indexes: https://pypi.org/simple, https://us-python.pkg.dev/colab-wheels/public/simple/\n",
            "Requirement already satisfied: yfinance in /usr/local/lib/python3.10/dist-packages (0.2.18)\n",
            "Requirement already satisfied: multitasking>=0.0.7 in /usr/local/lib/python3.10/dist-packages (from yfinance) (0.0.11)\n",
            "Requirement already satisfied: cryptography>=3.3.2 in /usr/local/lib/python3.10/dist-packages (from yfinance) (40.0.2)\n",
            "Requirement already satisfied: beautifulsoup4>=4.11.1 in /usr/local/lib/python3.10/dist-packages (from yfinance) (4.11.2)\n",
            "Requirement already satisfied: pandas>=1.3.0 in /usr/local/lib/python3.10/dist-packages (from yfinance) (1.5.3)\n",
            "Requirement already satisfied: lxml>=4.9.1 in /usr/local/lib/python3.10/dist-packages (from yfinance) (4.9.2)\n",
            "Requirement already satisfied: requests>=2.26 in /usr/local/lib/python3.10/dist-packages (from yfinance) (2.27.1)\n",
            "Requirement already satisfied: pytz>=2022.5 in /usr/local/lib/python3.10/dist-packages (from yfinance) (2022.7.1)\n",
            "Requirement already satisfied: frozendict>=2.3.4 in /usr/local/lib/python3.10/dist-packages (from yfinance) (2.3.7)\n",
            "Requirement already satisfied: html5lib>=1.1 in /usr/local/lib/python3.10/dist-packages (from yfinance) (1.1)\n",
            "Requirement already satisfied: appdirs>=1.4.4 in /usr/local/lib/python3.10/dist-packages (from yfinance) (1.4.4)\n",
            "Requirement already satisfied: numpy>=1.16.5 in /usr/local/lib/python3.10/dist-packages (from yfinance) (1.22.4)\n",
            "Requirement already satisfied: soupsieve>1.2 in /usr/local/lib/python3.10/dist-packages (from beautifulsoup4>=4.11.1->yfinance) (2.4.1)\n",
            "Requirement already satisfied: cffi>=1.12 in /usr/local/lib/python3.10/dist-packages (from cryptography>=3.3.2->yfinance) (1.15.1)\n",
            "Requirement already satisfied: six>=1.9 in /usr/local/lib/python3.10/dist-packages (from html5lib>=1.1->yfinance) (1.16.0)\n",
            "Requirement already satisfied: webencodings in /usr/local/lib/python3.10/dist-packages (from html5lib>=1.1->yfinance) (0.5.1)\n",
            "Requirement already satisfied: python-dateutil>=2.8.1 in /usr/local/lib/python3.10/dist-packages (from pandas>=1.3.0->yfinance) (2.8.2)\n",
            "Requirement already satisfied: idna<4,>=2.5 in /usr/local/lib/python3.10/dist-packages (from requests>=2.26->yfinance) (3.4)\n",
            "Requirement already satisfied: charset-normalizer~=2.0.0 in /usr/local/lib/python3.10/dist-packages (from requests>=2.26->yfinance) (2.0.12)\n",
            "Requirement already satisfied: urllib3<1.27,>=1.21.1 in /usr/local/lib/python3.10/dist-packages (from requests>=2.26->yfinance) (1.26.15)\n",
            "Requirement already satisfied: certifi>=2017.4.17 in /usr/local/lib/python3.10/dist-packages (from requests>=2.26->yfinance) (2022.12.7)\n",
            "Requirement already satisfied: pycparser in /usr/local/lib/python3.10/dist-packages (from cffi>=1.12->cryptography>=3.3.2->yfinance) (2.21)\n"
          ]
        }
      ]
    },
    {
      "cell_type": "markdown",
      "source": [
        "Built and built well by Jonah Robinson, Owen Goazli, Kush Goswami, Doran Chang\n",
        "University of California Berkeley, 2023\n"
      ],
      "metadata": {
        "id": "E2iN279EXkFo"
      }
    },
    {
      "cell_type": "code",
      "source": [
        "!pip install qpsolvers"
      ],
      "metadata": {
        "colab": {
          "base_uri": "https://localhost:8080/"
        },
        "id": "g7_Q3G-KLW9F",
        "outputId": "71b2880e-257d-4a50-c13d-b55a68cab97b"
      },
      "execution_count": null,
      "outputs": [
        {
          "output_type": "stream",
          "name": "stdout",
          "text": [
            "Looking in indexes: https://pypi.org/simple, https://us-python.pkg.dev/colab-wheels/public/simple/\n",
            "Requirement already satisfied: qpsolvers in /usr/local/lib/python3.10/dist-packages (3.4.0)\n",
            "Requirement already satisfied: daqp>=0.5.1 in /usr/local/lib/python3.10/dist-packages (from qpsolvers) (0.5.1)\n",
            "Requirement already satisfied: scipy>=1.2.0 in /usr/local/lib/python3.10/dist-packages (from qpsolvers) (1.10.1)\n",
            "Requirement already satisfied: osqp>=0.6.2 in /usr/local/lib/python3.10/dist-packages (from qpsolvers) (0.6.2.post8)\n",
            "Requirement already satisfied: scs>=3.2.0 in /usr/local/lib/python3.10/dist-packages (from qpsolvers) (3.2.3)\n",
            "Requirement already satisfied: numpy>=1.15.4 in /usr/local/lib/python3.10/dist-packages (from qpsolvers) (1.22.4)\n",
            "Requirement already satisfied: ecos>=2.0.8 in /usr/local/lib/python3.10/dist-packages (from qpsolvers) (2.0.12)\n",
            "Requirement already satisfied: qdldl in /usr/local/lib/python3.10/dist-packages (from osqp>=0.6.2->qpsolvers) (0.1.7)\n"
          ]
        }
      ]
    },
    {
      "cell_type": "code",
      "execution_count": null,
      "metadata": {
        "id": "uL0J-SmFeaPz"
      },
      "outputs": [],
      "source": [
        "import yfinance as yf\n",
        "from qpsolvers import solve_qp\n",
        "import numpy as np\n",
        "import matplotlib.pyplot as plt"
      ]
    },
    {
      "cell_type": "code",
      "source": [
        "sp500_tickers_2014 = ['A', 'AA', 'AAPL', 'ABBV', 'ABC', 'ABT', 'ACE', 'ACN', 'ADBE', 'ADI',\n",
        " 'ADM', 'ADP', 'ADS', 'ADSK', 'AEE', 'AEP', 'AES', 'AET', 'AFL', 'AGN',\n",
        " 'AIG', 'AIV', 'AIZ', 'AKAM', 'ALL', 'ALLE', 'ALTR', 'ALXN', 'AMAT', 'AME',\n",
        " 'AMG', 'AMGN', 'AMP', 'AMT', 'AMZN', 'AN', 'ANTM', 'AON', 'APA', 'APC',\n",
        " 'APD', 'APH', 'ARG', 'ATVI', 'AVB', 'AVGO', 'AVY', 'AXP', 'AZO', 'BA',\n",
        " 'BAC', 'BAX', 'BBBY', 'BBT', 'BBY', 'BCR', 'BDX', 'BEN', 'BF-B', 'BHI',\n",
        " 'BIIB', 'BK', 'BLK', 'BLL', 'BMY', 'BRCM', 'BRK-B', 'BSX', 'BWA', 'BXP',\n",
        " 'C', 'CA', 'CAG', 'CAH', 'CAM', 'CAT', 'CB', 'CBG', 'CBS', 'CCE', 'CCI',\n",
        " 'CCL', 'CELG', 'CERN', 'CF', 'CFG', 'CHD', 'CHK', 'CHRW', 'CI', 'CINF',\n",
        " 'CL', 'CLX', 'CMA', 'CMCSA', 'CME', 'CMG', 'CMI', 'CMS', 'CNP', 'CNX',\n",
        " 'COF', 'COG', 'COH', 'COL', 'COO', 'COP', 'COST', 'COV', 'CPB', 'CRM',\n",
        " 'CSC', 'CSCO', 'CSX', 'CTAS', 'CTL', 'CTSH', 'CTXS', 'CVC', 'CVS', 'CVX',\n",
        " 'CXO', 'D', 'DAL', 'DD', 'DE', 'DFS', 'DG', 'DGX', 'DHI', 'DHR', 'DIS',\n",
        " 'DISCA', 'DISCK', 'DLPH', 'DLTR', 'DNB', 'DO', 'DOV', 'DOW', 'DPS', 'DRI',\n",
        " 'DTE', 'DUK', 'DVA', 'DVN', 'EA', 'EBAY', 'ECL', 'ED', 'EFX', 'EIX', 'EL',\n",
        " 'EMC', 'EMN', 'EMR', 'EOG', 'EQR', 'EQT', 'ES', 'ESRX', 'ESS', 'ETFC',\n",
        " 'ETN', 'ETR', 'EW', 'EXC', 'EXPD', 'EXPE', 'EXR', 'F', 'FAST', 'FB', 'FCX',\n",
        " 'FDX', 'FE', 'FFIV', 'FIS', 'FISV', 'FITB', 'FLIR', 'FLR', 'FLS', 'FMC',\n",
        " 'FOX', 'FOXA', 'FSLR', 'FTI', 'FTR', 'GAS', 'GCI', 'GD', 'GE', 'GGP', \n",
        " 'GIS', 'GLW', 'GM', 'GME', 'GNW', 'GOOG', 'GPC', 'GPS', 'GRMN', 'GS',\n",
        " 'GT', 'GWW', 'HAL', 'HAR', 'HAS', 'HBAN', 'HCBK', 'HCN', 'HCP', 'HD',\n",
        " 'HES', 'HIG', 'HOG', 'HON', 'HOT', 'HP', 'HPE', 'HPQ', 'HRB', 'HRL',\n",
        " 'HRS', 'HSIC', 'HST', 'HSY', 'HUM', 'IBM', 'ICE', 'IFF', 'IGT', 'INTC',\n",
        " 'INTU', 'IP', 'IPG', 'IR', 'IRM', 'ISRG', 'ITW', 'IVZ', 'JCI', 'JEC',\n",
        " 'JNJ', 'JNPR', 'JPM', 'JWN', 'K', 'KEY', 'KIM', 'KLAC', 'KMB', 'KMI',\n",
        " 'KMX', 'KO', 'KORS', 'KR', 'KSS', 'KSU', 'L', 'LB', 'LEG', 'LEN', 'LH',\n",
        " 'LLL', 'LLTC', 'LLY', 'LM', 'LMT', 'LNC', 'LO', 'LOW', 'LRCX', 'LUK',\n",
        " 'LUV', 'LVLT', 'LYB', 'M', 'MA', 'MAC', 'MAR', 'MAS', 'MAT', 'MCD',\n",
        " 'MCHP', 'MCK', 'MCO', 'MDLZ', 'MDT', 'MET', 'MHFI', 'MHK', 'MJN', 'MKC',\n",
        " 'MLM', 'MMC', 'MMM', 'MNST', 'MO', 'MON', 'MOS', 'MPC', 'MRK', 'MRO',\n",
        " 'MS', 'MSFT', 'MSI', 'MTB', 'MTD', 'MU', 'MUR', 'MYL', 'NAVI', 'NBL',\n",
        " 'NDAQ', 'NEE', 'NEM', 'NFLX', 'NFX', 'NI', 'NKE', 'NLSN', 'NOC', 'NOV',\n",
        " 'NRG', 'NSC', 'NTAP', 'NTRS', 'NUE', 'NVDA', 'NWL', 'NWS', 'NWSA', 'O',\n",
        " 'OKE', 'OMC', 'ORCL', 'ORLY', 'OXY', 'PAYX', 'PBCT', 'PBI', 'PCAR',\n",
        " 'PCG', 'PCL', 'PCLN', 'PCP', 'PDCO', 'PEG', 'PEP', 'PETM', 'PFE', 'PFG',\n",
        " 'PG', 'PGR', 'PH', 'PHM', 'PKI', 'PLD', 'PLL', 'PM', 'PNC', 'PNR',\n",
        " 'PNW', 'POM', 'PPG', 'PPL', 'PRGO', 'PRU', 'PSA', 'PSX', 'PVH', 'PWR',\n",
        " 'PX', 'PXD', 'QCOM', 'QLGC', 'QRVO', 'RAI', 'RCL', 'REGN', 'RF', 'RHI',\n",
        " 'RHT', 'RIG', 'RL', 'ROK', 'ROP', 'ROST', 'RRC', 'RSG', 'RTN', 'SBUX', \n",
        " 'SCG', 'SCHW', 'SE', 'SEE', 'SHW', 'SIAL', 'SJM', 'SLB', 'SLM', 'SNA',\n",
        "  'SNDK', 'SNI', 'SO', 'SPG', 'SPLS', 'SRCL', 'SRE', 'STI', 'STJ', 'STT',\n",
        "   'STX', 'STZ', 'SWK', 'SWN', 'SWY', 'SYK', 'SYMC', 'SYY', 'T', 'TAP', 'TDC',\n",
        "   'TE', 'TEG', 'TEL', 'TGT', 'THC', 'TIF', 'TJX', 'TMK', 'TMO', 'TRIP', 'TROW',\n",
        "   'TRV', 'TSCO', 'TSN', 'TSO', 'TSS', 'TWC', 'TWX', 'TXN', 'TXT', 'TYC', 'UA', 'UHS',\n",
        "   'UNH', 'UNM', 'UNP', 'UPS', 'URBN', 'URI', 'USB', 'UTX', 'V', 'VAR', 'VFC', 'VIAB',\n",
        "   'VLO', 'VMC', 'VNO', 'VRSN', 'VRTX', 'VTR', 'VZ', 'WAG', 'WAT', 'WDC', 'WEC', 'WFC', \n",
        "   'WFM', 'WHR', 'WIN', 'WLP', 'WM', 'WMB', 'WMT', 'WU', 'WY', 'WYN', 'WYNN', 'XEC', 'XEL',\n",
        "   'XL', 'XLNX', 'XOM', 'XRAY', 'XRX', 'XYL', 'YHOO', 'YUM', 'ZION', 'ZMH']\n",
        "\n",
        "\n",
        "# Use yfinance to retrieve data for all S&P 500 stocks\n",
        "training_data = yf.download(sp500_tickers_2014, start=\"2014-12-31\", end=\"2017-12-31\").dropna(axis=1)"
      ],
      "metadata": {
        "id": "kmmqjPtziuje",
        "colab": {
          "base_uri": "https://localhost:8080/"
        },
        "outputId": "85c847bb-2440-433e-bcf6-18c832e37a24"
      },
      "execution_count": null,
      "outputs": [
        {
          "output_type": "stream",
          "name": "stdout",
          "text": [
            "[*********************100%***********************]  495 of 495 completed\n",
            "\n",
            "96 Failed downloads:\n",
            "- SIAL: No data found for this date range, symbol may be delisted\n",
            "- TIF: No timezone found, symbol may be delisted\n",
            "- PETM: Data doesn't exist for startDate = 1420002000, endDate = 1514696400\n",
            "- VAR: No timezone found, symbol may be delisted\n",
            "- MON: No timezone found, symbol may be delisted\n",
            "- SNDK: No data found for this date range, symbol may be delisted\n",
            "- MJN: No data found for this date range, symbol may be delisted\n",
            "- TE: No data found for this date range, symbol may be delisted\n",
            "- AGN: No timezone found, symbol may be delisted\n",
            "- SPLS: No data found for this date range, symbol may be delisted\n",
            "- BRCM: No data found for this date range, symbol may be delisted\n",
            "- WYN: No data found for this date range, symbol may be delisted\n",
            "- ALXN: No timezone found, symbol may be delisted\n",
            "- PCLN: No data found for this date range, symbol may be delisted\n",
            "- STI: No timezone found, symbol may be delisted\n",
            "- RAI: No data found for this date range, symbol may be delisted\n",
            "- CCE: No data found for this date range, symbol may be delisted\n",
            "- TYC: No data found for this date range, symbol may be delisted\n",
            "- PX: Data doesn't exist for startDate = 1420002000, endDate = 1514696400\n",
            "- YHOO: No data found for this date range, symbol may be delisted\n",
            "- HRS: No timezone found, symbol may be delisted\n",
            "- ANTM: No timezone found, symbol may be delisted\n",
            "- MYL: No timezone found, symbol may be delisted\n",
            "- FB: No timezone found, symbol may be delisted\n",
            "- BBT: No timezone found, symbol may be delisted\n",
            "- BHI: Data doesn't exist for startDate = 1420002000, endDate = 1514696400\n",
            "- LUK: No data found for this date range, symbol may be delisted\n",
            "- DLPH: No timezone found, symbol may be delisted\n",
            "- STJ: No data found for this date range, symbol may be delisted\n",
            "- DPS: No data found for this date range, symbol may be delisted\n",
            "- QLGC: No data found for this date range, symbol may be delisted\n",
            "- SWY: No data found for this date range, symbol may be delisted\n",
            "- KSU: No timezone found, symbol may be delisted\n",
            "- LB: No timezone found, symbol may be delisted\n",
            "- TSO: No data found for this date range, symbol may be delisted\n",
            "- FTR: No timezone found, symbol may be delisted\n",
            "- LO: No data found for this date range, symbol may be delisted\n",
            "- TWC: No data found for this date range, symbol may be delisted\n",
            "- RTN: No timezone found, symbol may be delisted\n",
            "- ADS: No timezone found, symbol may be delisted\n",
            "- DNB: Data doesn't exist for startDate = 1420002000, endDate = 1514696400\n",
            "- LVLT: No data found for this date range, symbol may be delisted\n",
            "- CTL: No timezone found, symbol may be delisted\n",
            "- FLIR: No timezone found, symbol may be delisted\n",
            "- WFM: No data found for this date range, symbol may be delisted\n",
            "- TMK: No timezone found, symbol may be delisted\n",
            "- DO: Data doesn't exist for startDate = 1420002000, endDate = 1514696400\n",
            "- CBS: No timezone found, symbol may be delisted\n",
            "- COH: Data doesn't exist for startDate = 1420002000, endDate = 1514696400\n",
            "- COG: No timezone found, symbol may be delisted\n",
            "- WAG: No data found for this date range, symbol may be delisted\n",
            "- HCP: Data doesn't exist for startDate = 1420002000, endDate = 1514696400\n",
            "- WLP: No data found for this date range, symbol may be delisted\n",
            "- CTXS: No timezone found, symbol may be delisted\n",
            "- DOW: Data doesn't exist for startDate = 1420002000, endDate = 1514696400\n",
            "- CVC: No data found for this date range, symbol may be delisted\n",
            "- BCR: No data found for this date range, symbol may be delisted\n",
            "- ACE: Data doesn't exist for startDate = 1420002000, endDate = 1514696400\n",
            "- CXO: No timezone found, symbol may be delisted\n",
            "- HCN: No data found for this date range, symbol may be delisted\n",
            "- FOX: Data doesn't exist for startDate = 1420002000, endDate = 1514696400\n",
            "- LM: No timezone found, symbol may be delisted\n",
            "- ARG: Data doesn't exist for startDate = 1420002000, endDate = 1514696400\n",
            "- CAM: No data found for this date range, symbol may be delisted\n",
            "- ETFC: No timezone found, symbol may be delisted\n",
            "- GGP: No data found for this date range, symbol may be delisted\n",
            "- CBG: No data found for this date range, symbol may be delisted\n",
            "- XLNX: No timezone found, symbol may be delisted\n",
            "- LLTC: No data found for this date range, symbol may be delisted\n",
            "- UTX: No timezone found, symbol may be delisted\n",
            "- RHT: No timezone found, symbol may be delisted\n",
            "- LLL: No timezone found, symbol may be delisted\n",
            "- KORS: No data found for this date range, symbol may be delisted\n",
            "- HCBK: No data found for this date range, symbol may be delisted\n",
            "- PBCT: No timezone found, symbol may be delisted\n",
            "- PCP: Data doesn't exist for startDate = 1420002000, endDate = 1514696400\n",
            "- FOXA: Data doesn't exist for startDate = 1420002000, endDate = 1514696400\n",
            "- CHK: Data doesn't exist for startDate = 1420002000, endDate = 1514696400\n",
            "- TSS: No timezone found, symbol may be delisted\n",
            "- CERN: No timezone found, symbol may be delisted\n",
            "- VIAB: No timezone found, symbol may be delisted\n",
            "- XEC: No timezone found, symbol may be delisted\n",
            "- MHFI: No data found for this date range, symbol may be delisted\n",
            "- DISCK: No timezone found, symbol may be delisted\n",
            "- JEC: No timezone found, symbol may be delisted\n",
            "- DISCA: No timezone found, symbol may be delisted\n",
            "- PLL: Data doesn't exist for startDate = 1420002000, endDate = 1514696400\n",
            "- NBL: No timezone found, symbol may be delisted\n",
            "- BLL: No timezone found, symbol may be delisted\n",
            "- SYMC: No timezone found, symbol may be delisted\n",
            "- WIN: No timezone found, symbol may be delisted\n",
            "- XL: No timezone found, symbol may be delisted\n",
            "- ZMH: No data found for this date range, symbol may be delisted\n",
            "- NLSN: No timezone found, symbol may be delisted\n",
            "- CELG: No timezone found, symbol may be delisted\n",
            "- APC: No timezone found, symbol may be delisted\n"
          ]
        }
      ]
    },
    {
      "cell_type": "code",
      "source": [
        "closes = training_data['Adj Close']"
      ],
      "metadata": {
        "id": "mIkylUgJ8QkG"
      },
      "execution_count": null,
      "outputs": []
    },
    {
      "cell_type": "markdown",
      "source": [],
      "metadata": {
        "id": "boHRhwus-eYE"
      }
    },
    {
      "cell_type": "code",
      "source": [
        "cov_matrix = closes.cov()"
      ],
      "metadata": {
        "id": "VZFm0Pz_-iDf"
      },
      "execution_count": null,
      "outputs": []
    },
    {
      "cell_type": "code",
      "source": [
        "cov_matrix"
      ],
      "metadata": {
        "colab": {
          "base_uri": "https://localhost:8080/",
          "height": 488
        },
        "id": "urN_C5E1-kQJ",
        "outputId": "c5f62acd-93b2-400d-aad9-e2f858bb8533"
      },
      "execution_count": null,
      "outputs": [
        {
          "output_type": "execute_result",
          "data": {
            "text/plain": [
              "              A         AA       AAPL       ABBV        ABC        ABT  \\\n",
              "A     91.768873  60.330454  45.426005  76.510608 -32.661706  33.045523   \n",
              "AA    60.330454  63.321326  35.759317  54.697201  -7.638783  27.784349   \n",
              "AAPL  45.426005  35.759317  29.187723  40.046495  -0.792992  21.646999   \n",
              "ABBV  76.510608  54.697201  40.046495  81.070078 -18.504243  36.340870   \n",
              "ABC  -32.661706  -7.638783  -0.792992 -18.504243  87.202917   8.781788   \n",
              "...         ...        ...        ...        ...        ...        ...   \n",
              "XRAY  25.287935   4.788450   7.691717  17.963747 -23.292363   3.721832   \n",
              "XRX   10.646988  14.941189   7.989611   9.526361   4.950228   7.172440   \n",
              "XYL   90.374625  55.064772  40.322569  75.556043 -52.534707  27.290063   \n",
              "YUM   73.970996  48.283244  38.356381  65.611155 -19.781000  28.911528   \n",
              "ZION  61.493516  44.683175  34.034133  50.877315 -18.371411  22.306300   \n",
              "\n",
              "             ACN        ADBE         ADI        ADM  ...        WU         WY  \\\n",
              "A     133.826131  277.057279  100.268979   5.076464  ...  4.422432  18.303843   \n",
              "AA     70.833910  166.647272   70.888217  11.606122  ...  2.605913  15.332211   \n",
              "AAPL   58.764962  137.869860   54.723027   5.573457  ...  1.952629   9.920492   \n",
              "ABBV  113.819706  233.196924   82.480508   5.609609  ...  3.515450  15.592932   \n",
              "ABC   -83.278941 -123.030893  -29.197278   8.019118  ... -2.016410  -4.187643   \n",
              "...          ...         ...         ...        ...  ...       ...        ...   \n",
              "XRAY   53.963667   90.420239   26.858804  -4.815841  ...  1.521289   4.557631   \n",
              "XRX     5.262126   23.545616   11.388357   3.288851  ...  0.030951   3.515231   \n",
              "XYL   147.386412  281.890926   99.410954   3.282660  ...  5.594109  17.461163   \n",
              "YUM   110.280248  223.090710   84.713700   8.487592  ...  4.907036  14.673768   \n",
              "ZION   94.399971  191.776305   79.205222   7.884687  ...  4.154509  13.056877   \n",
              "\n",
              "            WYNN        XEL        XOM       XRAY        XRX        XYL  \\\n",
              "A     189.407724  46.049471  13.011240  25.287935  10.646988  90.374625   \n",
              "AA    181.234777  24.925805   9.307430   4.788450  14.941189  55.064772   \n",
              "AAPL  109.412159  19.416315   1.822182   7.691717   7.989611  40.322569   \n",
              "ABBV  173.788737  35.468820   9.079716  17.963747   9.526361  75.556043   \n",
              "ABC   -16.273621 -30.706013 -17.669812 -23.292363   4.950228 -52.534707   \n",
              "...          ...        ...        ...        ...        ...        ...   \n",
              "XRAY   17.492565  17.597693   6.662564  20.232599  -2.139148  29.365633   \n",
              "XRX    49.329387   3.075029   0.494772  -2.139148   5.665190   6.749806   \n",
              "XYL   167.312235  49.114724  18.181626  29.365633   6.749806  99.546790   \n",
              "YUM   154.220845  35.965454  10.594063  18.003198   7.491709  74.761115   \n",
              "ZION  115.209841  29.117173   7.346035  15.717207   6.804199  62.209613   \n",
              "\n",
              "            YUM       ZION  \n",
              "A     73.970996  61.493516  \n",
              "AA    48.283244  44.683175  \n",
              "AAPL  38.356381  34.034133  \n",
              "ABBV  65.611155  50.877315  \n",
              "ABC  -19.781000 -18.371411  \n",
              "...         ...        ...  \n",
              "XRAY  18.003198  15.717207  \n",
              "XRX    7.491709   6.804199  \n",
              "XYL   74.761115  62.209613  \n",
              "YUM   69.390130  53.201285  \n",
              "ZION  53.201285  53.834162  \n",
              "\n",
              "[384 rows x 384 columns]"
            ],
            "text/html": [
              "\n",
              "  <div id=\"df-90495ba3-2025-41f0-9ebc-9d2b1f13ed8b\">\n",
              "    <div class=\"colab-df-container\">\n",
              "      <div>\n",
              "<style scoped>\n",
              "    .dataframe tbody tr th:only-of-type {\n",
              "        vertical-align: middle;\n",
              "    }\n",
              "\n",
              "    .dataframe tbody tr th {\n",
              "        vertical-align: top;\n",
              "    }\n",
              "\n",
              "    .dataframe thead th {\n",
              "        text-align: right;\n",
              "    }\n",
              "</style>\n",
              "<table border=\"1\" class=\"dataframe\">\n",
              "  <thead>\n",
              "    <tr style=\"text-align: right;\">\n",
              "      <th></th>\n",
              "      <th>A</th>\n",
              "      <th>AA</th>\n",
              "      <th>AAPL</th>\n",
              "      <th>ABBV</th>\n",
              "      <th>ABC</th>\n",
              "      <th>ABT</th>\n",
              "      <th>ACN</th>\n",
              "      <th>ADBE</th>\n",
              "      <th>ADI</th>\n",
              "      <th>ADM</th>\n",
              "      <th>...</th>\n",
              "      <th>WU</th>\n",
              "      <th>WY</th>\n",
              "      <th>WYNN</th>\n",
              "      <th>XEL</th>\n",
              "      <th>XOM</th>\n",
              "      <th>XRAY</th>\n",
              "      <th>XRX</th>\n",
              "      <th>XYL</th>\n",
              "      <th>YUM</th>\n",
              "      <th>ZION</th>\n",
              "    </tr>\n",
              "  </thead>\n",
              "  <tbody>\n",
              "    <tr>\n",
              "      <th>A</th>\n",
              "      <td>91.768873</td>\n",
              "      <td>60.330454</td>\n",
              "      <td>45.426005</td>\n",
              "      <td>76.510608</td>\n",
              "      <td>-32.661706</td>\n",
              "      <td>33.045523</td>\n",
              "      <td>133.826131</td>\n",
              "      <td>277.057279</td>\n",
              "      <td>100.268979</td>\n",
              "      <td>5.076464</td>\n",
              "      <td>...</td>\n",
              "      <td>4.422432</td>\n",
              "      <td>18.303843</td>\n",
              "      <td>189.407724</td>\n",
              "      <td>46.049471</td>\n",
              "      <td>13.011240</td>\n",
              "      <td>25.287935</td>\n",
              "      <td>10.646988</td>\n",
              "      <td>90.374625</td>\n",
              "      <td>73.970996</td>\n",
              "      <td>61.493516</td>\n",
              "    </tr>\n",
              "    <tr>\n",
              "      <th>AA</th>\n",
              "      <td>60.330454</td>\n",
              "      <td>63.321326</td>\n",
              "      <td>35.759317</td>\n",
              "      <td>54.697201</td>\n",
              "      <td>-7.638783</td>\n",
              "      <td>27.784349</td>\n",
              "      <td>70.833910</td>\n",
              "      <td>166.647272</td>\n",
              "      <td>70.888217</td>\n",
              "      <td>11.606122</td>\n",
              "      <td>...</td>\n",
              "      <td>2.605913</td>\n",
              "      <td>15.332211</td>\n",
              "      <td>181.234777</td>\n",
              "      <td>24.925805</td>\n",
              "      <td>9.307430</td>\n",
              "      <td>4.788450</td>\n",
              "      <td>14.941189</td>\n",
              "      <td>55.064772</td>\n",
              "      <td>48.283244</td>\n",
              "      <td>44.683175</td>\n",
              "    </tr>\n",
              "    <tr>\n",
              "      <th>AAPL</th>\n",
              "      <td>45.426005</td>\n",
              "      <td>35.759317</td>\n",
              "      <td>29.187723</td>\n",
              "      <td>40.046495</td>\n",
              "      <td>-0.792992</td>\n",
              "      <td>21.646999</td>\n",
              "      <td>58.764962</td>\n",
              "      <td>137.869860</td>\n",
              "      <td>54.723027</td>\n",
              "      <td>5.573457</td>\n",
              "      <td>...</td>\n",
              "      <td>1.952629</td>\n",
              "      <td>9.920492</td>\n",
              "      <td>109.412159</td>\n",
              "      <td>19.416315</td>\n",
              "      <td>1.822182</td>\n",
              "      <td>7.691717</td>\n",
              "      <td>7.989611</td>\n",
              "      <td>40.322569</td>\n",
              "      <td>38.356381</td>\n",
              "      <td>34.034133</td>\n",
              "    </tr>\n",
              "    <tr>\n",
              "      <th>ABBV</th>\n",
              "      <td>76.510608</td>\n",
              "      <td>54.697201</td>\n",
              "      <td>40.046495</td>\n",
              "      <td>81.070078</td>\n",
              "      <td>-18.504243</td>\n",
              "      <td>36.340870</td>\n",
              "      <td>113.819706</td>\n",
              "      <td>233.196924</td>\n",
              "      <td>82.480508</td>\n",
              "      <td>5.609609</td>\n",
              "      <td>...</td>\n",
              "      <td>3.515450</td>\n",
              "      <td>15.592932</td>\n",
              "      <td>173.788737</td>\n",
              "      <td>35.468820</td>\n",
              "      <td>9.079716</td>\n",
              "      <td>17.963747</td>\n",
              "      <td>9.526361</td>\n",
              "      <td>75.556043</td>\n",
              "      <td>65.611155</td>\n",
              "      <td>50.877315</td>\n",
              "    </tr>\n",
              "    <tr>\n",
              "      <th>ABC</th>\n",
              "      <td>-32.661706</td>\n",
              "      <td>-7.638783</td>\n",
              "      <td>-0.792992</td>\n",
              "      <td>-18.504243</td>\n",
              "      <td>87.202917</td>\n",
              "      <td>8.781788</td>\n",
              "      <td>-83.278941</td>\n",
              "      <td>-123.030893</td>\n",
              "      <td>-29.197278</td>\n",
              "      <td>8.019118</td>\n",
              "      <td>...</td>\n",
              "      <td>-2.016410</td>\n",
              "      <td>-4.187643</td>\n",
              "      <td>-16.273621</td>\n",
              "      <td>-30.706013</td>\n",
              "      <td>-17.669812</td>\n",
              "      <td>-23.292363</td>\n",
              "      <td>4.950228</td>\n",
              "      <td>-52.534707</td>\n",
              "      <td>-19.781000</td>\n",
              "      <td>-18.371411</td>\n",
              "    </tr>\n",
              "    <tr>\n",
              "      <th>...</th>\n",
              "      <td>...</td>\n",
              "      <td>...</td>\n",
              "      <td>...</td>\n",
              "      <td>...</td>\n",
              "      <td>...</td>\n",
              "      <td>...</td>\n",
              "      <td>...</td>\n",
              "      <td>...</td>\n",
              "      <td>...</td>\n",
              "      <td>...</td>\n",
              "      <td>...</td>\n",
              "      <td>...</td>\n",
              "      <td>...</td>\n",
              "      <td>...</td>\n",
              "      <td>...</td>\n",
              "      <td>...</td>\n",
              "      <td>...</td>\n",
              "      <td>...</td>\n",
              "      <td>...</td>\n",
              "      <td>...</td>\n",
              "      <td>...</td>\n",
              "    </tr>\n",
              "    <tr>\n",
              "      <th>XRAY</th>\n",
              "      <td>25.287935</td>\n",
              "      <td>4.788450</td>\n",
              "      <td>7.691717</td>\n",
              "      <td>17.963747</td>\n",
              "      <td>-23.292363</td>\n",
              "      <td>3.721832</td>\n",
              "      <td>53.963667</td>\n",
              "      <td>90.420239</td>\n",
              "      <td>26.858804</td>\n",
              "      <td>-4.815841</td>\n",
              "      <td>...</td>\n",
              "      <td>1.521289</td>\n",
              "      <td>4.557631</td>\n",
              "      <td>17.492565</td>\n",
              "      <td>17.597693</td>\n",
              "      <td>6.662564</td>\n",
              "      <td>20.232599</td>\n",
              "      <td>-2.139148</td>\n",
              "      <td>29.365633</td>\n",
              "      <td>18.003198</td>\n",
              "      <td>15.717207</td>\n",
              "    </tr>\n",
              "    <tr>\n",
              "      <th>XRX</th>\n",
              "      <td>10.646988</td>\n",
              "      <td>14.941189</td>\n",
              "      <td>7.989611</td>\n",
              "      <td>9.526361</td>\n",
              "      <td>4.950228</td>\n",
              "      <td>7.172440</td>\n",
              "      <td>5.262126</td>\n",
              "      <td>23.545616</td>\n",
              "      <td>11.388357</td>\n",
              "      <td>3.288851</td>\n",
              "      <td>...</td>\n",
              "      <td>0.030951</td>\n",
              "      <td>3.515231</td>\n",
              "      <td>49.329387</td>\n",
              "      <td>3.075029</td>\n",
              "      <td>0.494772</td>\n",
              "      <td>-2.139148</td>\n",
              "      <td>5.665190</td>\n",
              "      <td>6.749806</td>\n",
              "      <td>7.491709</td>\n",
              "      <td>6.804199</td>\n",
              "    </tr>\n",
              "    <tr>\n",
              "      <th>XYL</th>\n",
              "      <td>90.374625</td>\n",
              "      <td>55.064772</td>\n",
              "      <td>40.322569</td>\n",
              "      <td>75.556043</td>\n",
              "      <td>-52.534707</td>\n",
              "      <td>27.290063</td>\n",
              "      <td>147.386412</td>\n",
              "      <td>281.890926</td>\n",
              "      <td>99.410954</td>\n",
              "      <td>3.282660</td>\n",
              "      <td>...</td>\n",
              "      <td>5.594109</td>\n",
              "      <td>17.461163</td>\n",
              "      <td>167.312235</td>\n",
              "      <td>49.114724</td>\n",
              "      <td>18.181626</td>\n",
              "      <td>29.365633</td>\n",
              "      <td>6.749806</td>\n",
              "      <td>99.546790</td>\n",
              "      <td>74.761115</td>\n",
              "      <td>62.209613</td>\n",
              "    </tr>\n",
              "    <tr>\n",
              "      <th>YUM</th>\n",
              "      <td>73.970996</td>\n",
              "      <td>48.283244</td>\n",
              "      <td>38.356381</td>\n",
              "      <td>65.611155</td>\n",
              "      <td>-19.781000</td>\n",
              "      <td>28.911528</td>\n",
              "      <td>110.280248</td>\n",
              "      <td>223.090710</td>\n",
              "      <td>84.713700</td>\n",
              "      <td>8.487592</td>\n",
              "      <td>...</td>\n",
              "      <td>4.907036</td>\n",
              "      <td>14.673768</td>\n",
              "      <td>154.220845</td>\n",
              "      <td>35.965454</td>\n",
              "      <td>10.594063</td>\n",
              "      <td>18.003198</td>\n",
              "      <td>7.491709</td>\n",
              "      <td>74.761115</td>\n",
              "      <td>69.390130</td>\n",
              "      <td>53.201285</td>\n",
              "    </tr>\n",
              "    <tr>\n",
              "      <th>ZION</th>\n",
              "      <td>61.493516</td>\n",
              "      <td>44.683175</td>\n",
              "      <td>34.034133</td>\n",
              "      <td>50.877315</td>\n",
              "      <td>-18.371411</td>\n",
              "      <td>22.306300</td>\n",
              "      <td>94.399971</td>\n",
              "      <td>191.776305</td>\n",
              "      <td>79.205222</td>\n",
              "      <td>7.884687</td>\n",
              "      <td>...</td>\n",
              "      <td>4.154509</td>\n",
              "      <td>13.056877</td>\n",
              "      <td>115.209841</td>\n",
              "      <td>29.117173</td>\n",
              "      <td>7.346035</td>\n",
              "      <td>15.717207</td>\n",
              "      <td>6.804199</td>\n",
              "      <td>62.209613</td>\n",
              "      <td>53.201285</td>\n",
              "      <td>53.834162</td>\n",
              "    </tr>\n",
              "  </tbody>\n",
              "</table>\n",
              "<p>384 rows × 384 columns</p>\n",
              "</div>\n",
              "      <button class=\"colab-df-convert\" onclick=\"convertToInteractive('df-90495ba3-2025-41f0-9ebc-9d2b1f13ed8b')\"\n",
              "              title=\"Convert this dataframe to an interactive table.\"\n",
              "              style=\"display:none;\">\n",
              "        \n",
              "  <svg xmlns=\"http://www.w3.org/2000/svg\" height=\"24px\"viewBox=\"0 0 24 24\"\n",
              "       width=\"24px\">\n",
              "    <path d=\"M0 0h24v24H0V0z\" fill=\"none\"/>\n",
              "    <path d=\"M18.56 5.44l.94 2.06.94-2.06 2.06-.94-2.06-.94-.94-2.06-.94 2.06-2.06.94zm-11 1L8.5 8.5l.94-2.06 2.06-.94-2.06-.94L8.5 2.5l-.94 2.06-2.06.94zm10 10l.94 2.06.94-2.06 2.06-.94-2.06-.94-.94-2.06-.94 2.06-2.06.94z\"/><path d=\"M17.41 7.96l-1.37-1.37c-.4-.4-.92-.59-1.43-.59-.52 0-1.04.2-1.43.59L10.3 9.45l-7.72 7.72c-.78.78-.78 2.05 0 2.83L4 21.41c.39.39.9.59 1.41.59.51 0 1.02-.2 1.41-.59l7.78-7.78 2.81-2.81c.8-.78.8-2.07 0-2.86zM5.41 20L4 18.59l7.72-7.72 1.47 1.35L5.41 20z\"/>\n",
              "  </svg>\n",
              "      </button>\n",
              "      \n",
              "  <style>\n",
              "    .colab-df-container {\n",
              "      display:flex;\n",
              "      flex-wrap:wrap;\n",
              "      gap: 12px;\n",
              "    }\n",
              "\n",
              "    .colab-df-convert {\n",
              "      background-color: #E8F0FE;\n",
              "      border: none;\n",
              "      border-radius: 50%;\n",
              "      cursor: pointer;\n",
              "      display: none;\n",
              "      fill: #1967D2;\n",
              "      height: 32px;\n",
              "      padding: 0 0 0 0;\n",
              "      width: 32px;\n",
              "    }\n",
              "\n",
              "    .colab-df-convert:hover {\n",
              "      background-color: #E2EBFA;\n",
              "      box-shadow: 0px 1px 2px rgba(60, 64, 67, 0.3), 0px 1px 3px 1px rgba(60, 64, 67, 0.15);\n",
              "      fill: #174EA6;\n",
              "    }\n",
              "\n",
              "    [theme=dark] .colab-df-convert {\n",
              "      background-color: #3B4455;\n",
              "      fill: #D2E3FC;\n",
              "    }\n",
              "\n",
              "    [theme=dark] .colab-df-convert:hover {\n",
              "      background-color: #434B5C;\n",
              "      box-shadow: 0px 1px 3px 1px rgba(0, 0, 0, 0.15);\n",
              "      filter: drop-shadow(0px 1px 2px rgba(0, 0, 0, 0.3));\n",
              "      fill: #FFFFFF;\n",
              "    }\n",
              "  </style>\n",
              "\n",
              "      <script>\n",
              "        const buttonEl =\n",
              "          document.querySelector('#df-90495ba3-2025-41f0-9ebc-9d2b1f13ed8b button.colab-df-convert');\n",
              "        buttonEl.style.display =\n",
              "          google.colab.kernel.accessAllowed ? 'block' : 'none';\n",
              "\n",
              "        async function convertToInteractive(key) {\n",
              "          const element = document.querySelector('#df-90495ba3-2025-41f0-9ebc-9d2b1f13ed8b');\n",
              "          const dataTable =\n",
              "            await google.colab.kernel.invokeFunction('convertToInteractive',\n",
              "                                                     [key], {});\n",
              "          if (!dataTable) return;\n",
              "\n",
              "          const docLinkHtml = 'Like what you see? Visit the ' +\n",
              "            '<a target=\"_blank\" href=https://colab.research.google.com/notebooks/data_table.ipynb>data table notebook</a>'\n",
              "            + ' to learn more about interactive tables.';\n",
              "          element.innerHTML = '';\n",
              "          dataTable['output_type'] = 'display_data';\n",
              "          await google.colab.output.renderOutput(dataTable, element);\n",
              "          const docLink = document.createElement('div');\n",
              "          docLink.innerHTML = docLinkHtml;\n",
              "          element.appendChild(docLink);\n",
              "        }\n",
              "      </script>\n",
              "    </div>\n",
              "  </div>\n",
              "  "
            ]
          },
          "metadata": {},
          "execution_count": 102
        }
      ]
    },
    {
      "cell_type": "code",
      "source": [
        "training_returns = closes.iloc[[0, len(closes) - 1], :].transpose()\n",
        "training_returns"
      ],
      "metadata": {
        "id": "x7J2trK9-lkh",
        "colab": {
          "base_uri": "https://localhost:8080/",
          "height": 424
        },
        "outputId": "c8668705-737c-4207-d628-777874df824f"
      },
      "execution_count": null,
      "outputs": [
        {
          "output_type": "execute_result",
          "data": {
            "text/plain": [
              "Date  2014-12-31 00:00:00  2017-12-29 00:00:00\n",
              "A               38.084961            64.383575\n",
              "AA              36.612675            53.261456\n",
              "AAPL            24.801624            40.168858\n",
              "ABBV            45.798298            75.257759\n",
              "ABC             79.457375            84.745949\n",
              "...                   ...                  ...\n",
              "XRAY            49.859371            62.615978\n",
              "XRX             26.346069            23.029209\n",
              "XYL             34.242165            64.033493\n",
              "YUM             44.820732            74.344383\n",
              "ZION            23.999929            43.990948\n",
              "\n",
              "[384 rows x 2 columns]"
            ],
            "text/html": [
              "\n",
              "  <div id=\"df-bcc88803-b3c8-4ed1-9e90-802c2da3055d\">\n",
              "    <div class=\"colab-df-container\">\n",
              "      <div>\n",
              "<style scoped>\n",
              "    .dataframe tbody tr th:only-of-type {\n",
              "        vertical-align: middle;\n",
              "    }\n",
              "\n",
              "    .dataframe tbody tr th {\n",
              "        vertical-align: top;\n",
              "    }\n",
              "\n",
              "    .dataframe thead th {\n",
              "        text-align: right;\n",
              "    }\n",
              "</style>\n",
              "<table border=\"1\" class=\"dataframe\">\n",
              "  <thead>\n",
              "    <tr style=\"text-align: right;\">\n",
              "      <th>Date</th>\n",
              "      <th>2014-12-31 00:00:00</th>\n",
              "      <th>2017-12-29 00:00:00</th>\n",
              "    </tr>\n",
              "  </thead>\n",
              "  <tbody>\n",
              "    <tr>\n",
              "      <th>A</th>\n",
              "      <td>38.084961</td>\n",
              "      <td>64.383575</td>\n",
              "    </tr>\n",
              "    <tr>\n",
              "      <th>AA</th>\n",
              "      <td>36.612675</td>\n",
              "      <td>53.261456</td>\n",
              "    </tr>\n",
              "    <tr>\n",
              "      <th>AAPL</th>\n",
              "      <td>24.801624</td>\n",
              "      <td>40.168858</td>\n",
              "    </tr>\n",
              "    <tr>\n",
              "      <th>ABBV</th>\n",
              "      <td>45.798298</td>\n",
              "      <td>75.257759</td>\n",
              "    </tr>\n",
              "    <tr>\n",
              "      <th>ABC</th>\n",
              "      <td>79.457375</td>\n",
              "      <td>84.745949</td>\n",
              "    </tr>\n",
              "    <tr>\n",
              "      <th>...</th>\n",
              "      <td>...</td>\n",
              "      <td>...</td>\n",
              "    </tr>\n",
              "    <tr>\n",
              "      <th>XRAY</th>\n",
              "      <td>49.859371</td>\n",
              "      <td>62.615978</td>\n",
              "    </tr>\n",
              "    <tr>\n",
              "      <th>XRX</th>\n",
              "      <td>26.346069</td>\n",
              "      <td>23.029209</td>\n",
              "    </tr>\n",
              "    <tr>\n",
              "      <th>XYL</th>\n",
              "      <td>34.242165</td>\n",
              "      <td>64.033493</td>\n",
              "    </tr>\n",
              "    <tr>\n",
              "      <th>YUM</th>\n",
              "      <td>44.820732</td>\n",
              "      <td>74.344383</td>\n",
              "    </tr>\n",
              "    <tr>\n",
              "      <th>ZION</th>\n",
              "      <td>23.999929</td>\n",
              "      <td>43.990948</td>\n",
              "    </tr>\n",
              "  </tbody>\n",
              "</table>\n",
              "<p>384 rows × 2 columns</p>\n",
              "</div>\n",
              "      <button class=\"colab-df-convert\" onclick=\"convertToInteractive('df-bcc88803-b3c8-4ed1-9e90-802c2da3055d')\"\n",
              "              title=\"Convert this dataframe to an interactive table.\"\n",
              "              style=\"display:none;\">\n",
              "        \n",
              "  <svg xmlns=\"http://www.w3.org/2000/svg\" height=\"24px\"viewBox=\"0 0 24 24\"\n",
              "       width=\"24px\">\n",
              "    <path d=\"M0 0h24v24H0V0z\" fill=\"none\"/>\n",
              "    <path d=\"M18.56 5.44l.94 2.06.94-2.06 2.06-.94-2.06-.94-.94-2.06-.94 2.06-2.06.94zm-11 1L8.5 8.5l.94-2.06 2.06-.94-2.06-.94L8.5 2.5l-.94 2.06-2.06.94zm10 10l.94 2.06.94-2.06 2.06-.94-2.06-.94-.94-2.06-.94 2.06-2.06.94z\"/><path d=\"M17.41 7.96l-1.37-1.37c-.4-.4-.92-.59-1.43-.59-.52 0-1.04.2-1.43.59L10.3 9.45l-7.72 7.72c-.78.78-.78 2.05 0 2.83L4 21.41c.39.39.9.59 1.41.59.51 0 1.02-.2 1.41-.59l7.78-7.78 2.81-2.81c.8-.78.8-2.07 0-2.86zM5.41 20L4 18.59l7.72-7.72 1.47 1.35L5.41 20z\"/>\n",
              "  </svg>\n",
              "      </button>\n",
              "      \n",
              "  <style>\n",
              "    .colab-df-container {\n",
              "      display:flex;\n",
              "      flex-wrap:wrap;\n",
              "      gap: 12px;\n",
              "    }\n",
              "\n",
              "    .colab-df-convert {\n",
              "      background-color: #E8F0FE;\n",
              "      border: none;\n",
              "      border-radius: 50%;\n",
              "      cursor: pointer;\n",
              "      display: none;\n",
              "      fill: #1967D2;\n",
              "      height: 32px;\n",
              "      padding: 0 0 0 0;\n",
              "      width: 32px;\n",
              "    }\n",
              "\n",
              "    .colab-df-convert:hover {\n",
              "      background-color: #E2EBFA;\n",
              "      box-shadow: 0px 1px 2px rgba(60, 64, 67, 0.3), 0px 1px 3px 1px rgba(60, 64, 67, 0.15);\n",
              "      fill: #174EA6;\n",
              "    }\n",
              "\n",
              "    [theme=dark] .colab-df-convert {\n",
              "      background-color: #3B4455;\n",
              "      fill: #D2E3FC;\n",
              "    }\n",
              "\n",
              "    [theme=dark] .colab-df-convert:hover {\n",
              "      background-color: #434B5C;\n",
              "      box-shadow: 0px 1px 3px 1px rgba(0, 0, 0, 0.15);\n",
              "      filter: drop-shadow(0px 1px 2px rgba(0, 0, 0, 0.3));\n",
              "      fill: #FFFFFF;\n",
              "    }\n",
              "  </style>\n",
              "\n",
              "      <script>\n",
              "        const buttonEl =\n",
              "          document.querySelector('#df-bcc88803-b3c8-4ed1-9e90-802c2da3055d button.colab-df-convert');\n",
              "        buttonEl.style.display =\n",
              "          google.colab.kernel.accessAllowed ? 'block' : 'none';\n",
              "\n",
              "        async function convertToInteractive(key) {\n",
              "          const element = document.querySelector('#df-bcc88803-b3c8-4ed1-9e90-802c2da3055d');\n",
              "          const dataTable =\n",
              "            await google.colab.kernel.invokeFunction('convertToInteractive',\n",
              "                                                     [key], {});\n",
              "          if (!dataTable) return;\n",
              "\n",
              "          const docLinkHtml = 'Like what you see? Visit the ' +\n",
              "            '<a target=\"_blank\" href=https://colab.research.google.com/notebooks/data_table.ipynb>data table notebook</a>'\n",
              "            + ' to learn more about interactive tables.';\n",
              "          element.innerHTML = '';\n",
              "          dataTable['output_type'] = 'display_data';\n",
              "          await google.colab.output.renderOutput(dataTable, element);\n",
              "          const docLink = document.createElement('div');\n",
              "          docLink.innerHTML = docLinkHtml;\n",
              "          element.appendChild(docLink);\n",
              "        }\n",
              "      </script>\n",
              "    </div>\n",
              "  </div>\n",
              "  "
            ]
          },
          "metadata": {},
          "execution_count": 103
        }
      ]
    },
    {
      "cell_type": "code",
      "source": [
        "training_returns['returns'] = (training_returns.iloc[:, 1] - training_returns.iloc[:, 0]) / training_returns.iloc[:, 0]"
      ],
      "metadata": {
        "id": "-utoFYmaFBoZ"
      },
      "execution_count": null,
      "outputs": []
    },
    {
      "cell_type": "code",
      "source": [
        "training_returns['returns']"
      ],
      "metadata": {
        "colab": {
          "base_uri": "https://localhost:8080/"
        },
        "id": "UrCov29jGJet",
        "outputId": "68f3f9da-ce87-4090-d709-0d771217c2fa"
      },
      "execution_count": null,
      "outputs": [
        {
          "output_type": "execute_result",
          "data": {
            "text/plain": [
              "A       0.690525\n",
              "AA      0.454727\n",
              "AAPL    0.619606\n",
              "ABBV    0.643244\n",
              "ABC     0.066559\n",
              "          ...   \n",
              "XRAY    0.255852\n",
              "XRX    -0.125896\n",
              "XYL     0.870019\n",
              "YUM     0.658705\n",
              "ZION    0.832962\n",
              "Name: returns, Length: 384, dtype: float64"
            ]
          },
          "metadata": {},
          "execution_count": 105
        }
      ]
    },
    {
      "cell_type": "code",
      "source": [
        "training_returns"
      ],
      "metadata": {
        "colab": {
          "base_uri": "https://localhost:8080/",
          "height": 424
        },
        "id": "FitgOVArFaou",
        "outputId": "211390f3-0e39-47c4-87ed-8cc711901ace"
      },
      "execution_count": null,
      "outputs": [
        {
          "output_type": "execute_result",
          "data": {
            "text/plain": [
              "Date  2014-12-31 00:00:00  2017-12-29 00:00:00   returns\n",
              "A               38.084961            64.383575  0.690525\n",
              "AA              36.612675            53.261456  0.454727\n",
              "AAPL            24.801624            40.168858  0.619606\n",
              "ABBV            45.798298            75.257759  0.643244\n",
              "ABC             79.457375            84.745949  0.066559\n",
              "...                   ...                  ...       ...\n",
              "XRAY            49.859371            62.615978  0.255852\n",
              "XRX             26.346069            23.029209 -0.125896\n",
              "XYL             34.242165            64.033493  0.870019\n",
              "YUM             44.820732            74.344383  0.658705\n",
              "ZION            23.999929            43.990948  0.832962\n",
              "\n",
              "[384 rows x 3 columns]"
            ],
            "text/html": [
              "\n",
              "  <div id=\"df-60f67410-2b7c-432d-addb-b5dd3114385f\">\n",
              "    <div class=\"colab-df-container\">\n",
              "      <div>\n",
              "<style scoped>\n",
              "    .dataframe tbody tr th:only-of-type {\n",
              "        vertical-align: middle;\n",
              "    }\n",
              "\n",
              "    .dataframe tbody tr th {\n",
              "        vertical-align: top;\n",
              "    }\n",
              "\n",
              "    .dataframe thead th {\n",
              "        text-align: right;\n",
              "    }\n",
              "</style>\n",
              "<table border=\"1\" class=\"dataframe\">\n",
              "  <thead>\n",
              "    <tr style=\"text-align: right;\">\n",
              "      <th>Date</th>\n",
              "      <th>2014-12-31 00:00:00</th>\n",
              "      <th>2017-12-29 00:00:00</th>\n",
              "      <th>returns</th>\n",
              "    </tr>\n",
              "  </thead>\n",
              "  <tbody>\n",
              "    <tr>\n",
              "      <th>A</th>\n",
              "      <td>38.084961</td>\n",
              "      <td>64.383575</td>\n",
              "      <td>0.690525</td>\n",
              "    </tr>\n",
              "    <tr>\n",
              "      <th>AA</th>\n",
              "      <td>36.612675</td>\n",
              "      <td>53.261456</td>\n",
              "      <td>0.454727</td>\n",
              "    </tr>\n",
              "    <tr>\n",
              "      <th>AAPL</th>\n",
              "      <td>24.801624</td>\n",
              "      <td>40.168858</td>\n",
              "      <td>0.619606</td>\n",
              "    </tr>\n",
              "    <tr>\n",
              "      <th>ABBV</th>\n",
              "      <td>45.798298</td>\n",
              "      <td>75.257759</td>\n",
              "      <td>0.643244</td>\n",
              "    </tr>\n",
              "    <tr>\n",
              "      <th>ABC</th>\n",
              "      <td>79.457375</td>\n",
              "      <td>84.745949</td>\n",
              "      <td>0.066559</td>\n",
              "    </tr>\n",
              "    <tr>\n",
              "      <th>...</th>\n",
              "      <td>...</td>\n",
              "      <td>...</td>\n",
              "      <td>...</td>\n",
              "    </tr>\n",
              "    <tr>\n",
              "      <th>XRAY</th>\n",
              "      <td>49.859371</td>\n",
              "      <td>62.615978</td>\n",
              "      <td>0.255852</td>\n",
              "    </tr>\n",
              "    <tr>\n",
              "      <th>XRX</th>\n",
              "      <td>26.346069</td>\n",
              "      <td>23.029209</td>\n",
              "      <td>-0.125896</td>\n",
              "    </tr>\n",
              "    <tr>\n",
              "      <th>XYL</th>\n",
              "      <td>34.242165</td>\n",
              "      <td>64.033493</td>\n",
              "      <td>0.870019</td>\n",
              "    </tr>\n",
              "    <tr>\n",
              "      <th>YUM</th>\n",
              "      <td>44.820732</td>\n",
              "      <td>74.344383</td>\n",
              "      <td>0.658705</td>\n",
              "    </tr>\n",
              "    <tr>\n",
              "      <th>ZION</th>\n",
              "      <td>23.999929</td>\n",
              "      <td>43.990948</td>\n",
              "      <td>0.832962</td>\n",
              "    </tr>\n",
              "  </tbody>\n",
              "</table>\n",
              "<p>384 rows × 3 columns</p>\n",
              "</div>\n",
              "      <button class=\"colab-df-convert\" onclick=\"convertToInteractive('df-60f67410-2b7c-432d-addb-b5dd3114385f')\"\n",
              "              title=\"Convert this dataframe to an interactive table.\"\n",
              "              style=\"display:none;\">\n",
              "        \n",
              "  <svg xmlns=\"http://www.w3.org/2000/svg\" height=\"24px\"viewBox=\"0 0 24 24\"\n",
              "       width=\"24px\">\n",
              "    <path d=\"M0 0h24v24H0V0z\" fill=\"none\"/>\n",
              "    <path d=\"M18.56 5.44l.94 2.06.94-2.06 2.06-.94-2.06-.94-.94-2.06-.94 2.06-2.06.94zm-11 1L8.5 8.5l.94-2.06 2.06-.94-2.06-.94L8.5 2.5l-.94 2.06-2.06.94zm10 10l.94 2.06.94-2.06 2.06-.94-2.06-.94-.94-2.06-.94 2.06-2.06.94z\"/><path d=\"M17.41 7.96l-1.37-1.37c-.4-.4-.92-.59-1.43-.59-.52 0-1.04.2-1.43.59L10.3 9.45l-7.72 7.72c-.78.78-.78 2.05 0 2.83L4 21.41c.39.39.9.59 1.41.59.51 0 1.02-.2 1.41-.59l7.78-7.78 2.81-2.81c.8-.78.8-2.07 0-2.86zM5.41 20L4 18.59l7.72-7.72 1.47 1.35L5.41 20z\"/>\n",
              "  </svg>\n",
              "      </button>\n",
              "      \n",
              "  <style>\n",
              "    .colab-df-container {\n",
              "      display:flex;\n",
              "      flex-wrap:wrap;\n",
              "      gap: 12px;\n",
              "    }\n",
              "\n",
              "    .colab-df-convert {\n",
              "      background-color: #E8F0FE;\n",
              "      border: none;\n",
              "      border-radius: 50%;\n",
              "      cursor: pointer;\n",
              "      display: none;\n",
              "      fill: #1967D2;\n",
              "      height: 32px;\n",
              "      padding: 0 0 0 0;\n",
              "      width: 32px;\n",
              "    }\n",
              "\n",
              "    .colab-df-convert:hover {\n",
              "      background-color: #E2EBFA;\n",
              "      box-shadow: 0px 1px 2px rgba(60, 64, 67, 0.3), 0px 1px 3px 1px rgba(60, 64, 67, 0.15);\n",
              "      fill: #174EA6;\n",
              "    }\n",
              "\n",
              "    [theme=dark] .colab-df-convert {\n",
              "      background-color: #3B4455;\n",
              "      fill: #D2E3FC;\n",
              "    }\n",
              "\n",
              "    [theme=dark] .colab-df-convert:hover {\n",
              "      background-color: #434B5C;\n",
              "      box-shadow: 0px 1px 3px 1px rgba(0, 0, 0, 0.15);\n",
              "      filter: drop-shadow(0px 1px 2px rgba(0, 0, 0, 0.3));\n",
              "      fill: #FFFFFF;\n",
              "    }\n",
              "  </style>\n",
              "\n",
              "      <script>\n",
              "        const buttonEl =\n",
              "          document.querySelector('#df-60f67410-2b7c-432d-addb-b5dd3114385f button.colab-df-convert');\n",
              "        buttonEl.style.display =\n",
              "          google.colab.kernel.accessAllowed ? 'block' : 'none';\n",
              "\n",
              "        async function convertToInteractive(key) {\n",
              "          const element = document.querySelector('#df-60f67410-2b7c-432d-addb-b5dd3114385f');\n",
              "          const dataTable =\n",
              "            await google.colab.kernel.invokeFunction('convertToInteractive',\n",
              "                                                     [key], {});\n",
              "          if (!dataTable) return;\n",
              "\n",
              "          const docLinkHtml = 'Like what you see? Visit the ' +\n",
              "            '<a target=\"_blank\" href=https://colab.research.google.com/notebooks/data_table.ipynb>data table notebook</a>'\n",
              "            + ' to learn more about interactive tables.';\n",
              "          element.innerHTML = '';\n",
              "          dataTable['output_type'] = 'display_data';\n",
              "          await google.colab.output.renderOutput(dataTable, element);\n",
              "          const docLink = document.createElement('div');\n",
              "          docLink.innerHTML = docLinkHtml;\n",
              "          element.appendChild(docLink);\n",
              "        }\n",
              "      </script>\n",
              "    </div>\n",
              "  </div>\n",
              "  "
            ]
          },
          "metadata": {},
          "execution_count": 106
        }
      ]
    },
    {
      "cell_type": "code",
      "source": [
        "np.mean(training_returns['returns'])"
      ],
      "metadata": {
        "colab": {
          "base_uri": "https://localhost:8080/"
        },
        "id": "aJI3WGCIFeo9",
        "outputId": "220da731-1803-4214-9b57-956df30790de"
      },
      "execution_count": null,
      "outputs": [
        {
          "output_type": "execute_result",
          "data": {
            "text/plain": [
              "0.39123210002040326"
            ]
          },
          "metadata": {},
          "execution_count": 107
        }
      ]
    },
    {
      "cell_type": "code",
      "source": [
        "cov = cov_matrix.values"
      ],
      "metadata": {
        "id": "7I4_XV7PNv8n"
      },
      "execution_count": null,
      "outputs": []
    },
    {
      "cell_type": "code",
      "source": [
        "def expected_risk(cov_matrix, w):\n",
        "  w = w.reshape(-1, 1)\n",
        "  return w.T@cov_matrix@w"
      ],
      "metadata": {
        "id": "hgQ3hWkVGv7r"
      },
      "execution_count": null,
      "outputs": []
    },
    {
      "cell_type": "code",
      "source": [
        "def expected_return(z, w):\n",
        "  return np.dot(z,w)\n"
      ],
      "metadata": {
        "id": "mfRASMlUIHOm"
      },
      "execution_count": null,
      "outputs": []
    },
    {
      "cell_type": "code",
      "source": [
        "returns = training_returns['returns'].values"
      ],
      "metadata": {
        "id": "MJB4S2Tu3_5M"
      },
      "execution_count": null,
      "outputs": []
    },
    {
      "cell_type": "code",
      "source": [
        "wanted_returns = [i/1000 for i in range(2000)]\n",
        "opt_ws = []\n",
        "opt_risks =[]\n",
        "opt_returns = []\n",
        "\n",
        "for wanted_return in wanted_returns:\n",
        "  P = cov\n",
        "  q = None\n",
        "  h = np.array([-wanted_return])\n",
        "  G = -returns.reshape((1,384))\n",
        "  A = np.ones((1,384))\n",
        "  b = np.ones(1)\n",
        "  w = solve_qp(P, q, G, h, A, b, solver=\"osqp\")\n",
        "  opt_ws.append(w)\n",
        "  opt_returns.append(expected_return(returns, w))\n",
        "  opt_risks.append(expected_risk(cov, w)[0][0])"
      ],
      "metadata": {
        "id": "1nfiGYQCAAAJ",
        "colab": {
          "base_uri": "https://localhost:8080/"
        },
        "outputId": "118f99f4-6781-4943-96cc-ecb40b0462fd"
      },
      "execution_count": null,
      "outputs": [
        {
          "output_type": "stream",
          "name": "stderr",
          "text": [
            "/usr/local/lib/python3.10/dist-packages/qpsolvers/conversions/ensure_sparse_matrices.py:38: UserWarning: Converted P to scipy.sparse.csc.csc_matrix\n",
            "For best performance, build P as a scipy.sparse.csc_matrix rather than as a numpy.ndarray\n",
            "  warnings.warn(\n",
            "/usr/local/lib/python3.10/dist-packages/qpsolvers/conversions/ensure_sparse_matrices.py:38: UserWarning: Converted G to scipy.sparse.csc.csc_matrix\n",
            "For best performance, build G as a scipy.sparse.csc_matrix rather than as a numpy.ndarray\n",
            "  warnings.warn(\n",
            "/usr/local/lib/python3.10/dist-packages/qpsolvers/conversions/ensure_sparse_matrices.py:38: UserWarning: Converted A to scipy.sparse.csc.csc_matrix\n",
            "For best performance, build A as a scipy.sparse.csc_matrix rather than as a numpy.ndarray\n",
            "  warnings.warn(\n"
          ]
        }
      ]
    },
    {
      "cell_type": "code",
      "source": [
        "plt.scatter(opt_risks, opt_returns, alpha=0.2, s=10)\n",
        "plt.xlabel(\"Risks\")\n",
        "plt.ylabel(\"Returns\")"
      ],
      "metadata": {
        "id": "hNfYFaCJB905",
        "outputId": "d221ac49-47f8-44be-8b4a-81aba630129e",
        "colab": {
          "base_uri": "https://localhost:8080/",
          "height": 467
        }
      },
      "execution_count": null,
      "outputs": [
        {
          "output_type": "execute_result",
          "data": {
            "text/plain": [
              "Text(0, 0.5, 'Returns')"
            ]
          },
          "metadata": {},
          "execution_count": 113
        },
        {
          "output_type": "display_data",
          "data": {
            "text/plain": [
              "<Figure size 640x480 with 1 Axes>"
            ],
            "image/png": "[encoded data removed]"
          },
          "metadata": {}
        }
      ]
    },
    {
      "cell_type": "code",
      "source": [
        "P = cov\n",
        "q = None\n",
        "h = np.array([-1.40])\n",
        "G = -returns.reshape((1,384))\n",
        "A = np.ones((1,384))\n",
        "b = np.ones(1)\n",
        "w = solve_qp(P, q, G, h, A, b, solver=\"osqp\")\n",
        "print(\"Expected Return: \", expected_return(returns, w))\n",
        "print(\"Expected Risk: \", expected_risk(cov, w)[0][0])"
      ],
      "metadata": {
        "id": "kaPFuA87CGqr",
        "outputId": "277307c6-73fe-4c6a-9c52-835e50df8488",
        "colab": {
          "base_uri": "https://localhost:8080/"
        }
      },
      "execution_count": null,
      "outputs": [
        {
          "output_type": "stream",
          "name": "stdout",
          "text": [
            "Expected Return:  1.4014832356059237\n",
            "Expected Risk:  0.00023976333006535237\n"
          ]
        }
      ]
    },
    {
      "cell_type": "code",
      "source": [
        "all_tickers_trained = list(cov_matrix.index)"
      ],
      "metadata": {
        "id": "w50kk_wBG43y"
      },
      "execution_count": null,
      "outputs": []
    },
    {
      "cell_type": "code",
      "source": [
        "testing_data = yf.download(all_tickers_trained, start=\"2018-1-1\", end=\"2018-12-31\").dropna(axis=1)"
      ],
      "metadata": {
        "id": "0LBBxWgDEkPA",
        "outputId": "706920d0-798c-4fa3-aa0e-f8b85403966f",
        "colab": {
          "base_uri": "https://localhost:8080/"
        }
      },
      "execution_count": null,
      "outputs": [
        {
          "output_type": "stream",
          "name": "stdout",
          "text": [
            "[*********************100%***********************]  384 of 384 completed\n"
          ]
        }
      ]
    },
    {
      "cell_type": "code",
      "source": [
        "all_tickers_obtained = list(testing_data[\"Adj Close\"].columns)"
      ],
      "metadata": {
        "id": "uphyl0AnG1Bg"
      },
      "execution_count": null,
      "outputs": []
    },
    {
      "cell_type": "code",
      "source": [
        "for ticker in all_tickers_trained:\n",
        "  if ticker not in all_tickers_obtained:\n",
        "    print(ticker)"
      ],
      "metadata": {
        "id": "GCXsUUVOGsoc",
        "outputId": "a4326b18-ab16-424b-aff3-90f0ba0075af",
        "colab": {
          "base_uri": "https://localhost:8080/"
        }
      },
      "execution_count": null,
      "outputs": [
        {
          "output_type": "stream",
          "name": "stdout",
          "text": [
            "ABC\n",
            "AET\n",
            "CA\n"
          ]
        }
      ]
    },
    {
      "cell_type": "code",
      "source": [
        "indexes_to_delete = [all_tickers_trained.index(\"ABC\"), all_tickers_trained.index(\"AET\"), all_tickers_trained.index(\"CA\")]"
      ],
      "metadata": {
        "id": "75cMJdkaHjd9"
      },
      "execution_count": null,
      "outputs": []
    },
    {
      "cell_type": "code",
      "source": [
        "adjusted_w = np.delete(w, indexes_to_delete)"
      ],
      "metadata": {
        "id": "tuLktm0dICtZ"
      },
      "execution_count": null,
      "outputs": []
    },
    {
      "cell_type": "code",
      "source": [
        "adjusted_w = adjusted_w / sum(adjusted_w)"
      ],
      "metadata": {
        "id": "eVzVXXrK-1Cr"
      },
      "execution_count": null,
      "outputs": []
    },
    {
      "cell_type": "code",
      "source": [
        "adjusted_w"
      ],
      "metadata": {
        "colab": {
          "base_uri": "https://localhost:8080/"
        },
        "id": "vjRCa8LCA2RJ",
        "outputId": "47df60ab-4268-424e-c627-10b792393dcd"
      },
      "execution_count": null,
      "outputs": [
        {
          "output_type": "execute_result",
          "data": {
            "text/plain": [
              "array([ 7.47985000e-03,  2.21715026e-04,  1.65316839e-02, -1.21893513e-03,\n",
              "        5.05034265e-04, -3.69575098e-03, -8.98610051e-04, -7.55339225e-03,\n",
              "        2.34226198e-03,  4.62679695e-04, -2.21497625e-03, -1.82662597e-02,\n",
              "       -1.57034553e-02, -3.35301692e-03,  2.42676272e-04, -2.24302556e-03,\n",
              "        5.05850952e-01, -1.16457245e-03,  1.97167638e-03, -1.05867847e-02,\n",
              "       -5.79766560e-03, -7.89001680e-03,  6.35481459e-03,  1.47830113e-03,\n",
              "       -3.46242757e-03,  1.38296178e-03, -6.05412214e-03,  2.67906714e-03,\n",
              "       -8.48464871e-04,  4.22218236e-03, -7.86947232e-03,  2.94821293e-03,\n",
              "        7.16555226e-03,  5.96859660e-03, -2.14731501e-03, -1.10173920e-04,\n",
              "       -4.75720403e-03,  3.09999145e-03,  3.33673024e-04,  9.76459819e-04,\n",
              "        6.20661552e-02,  4.37264669e-03, -9.14123142e-04,  5.90507032e-03,\n",
              "        2.36939433e-03,  2.36696075e-03,  1.11909955e-02,  5.71633726e-04,\n",
              "       -1.05604215e-02, -8.56168549e-04,  5.26634437e-03, -8.54827539e-05,\n",
              "       -6.03684675e-03, -5.32965857e-03,  7.27697523e-03, -2.47648629e-03,\n",
              "        9.49008992e-03, -6.83948482e-03, -1.33707985e-04, -4.49805630e-04,\n",
              "       -2.65366908e-03, -1.77099105e-03, -1.28275656e-03, -7.94936904e-03,\n",
              "        3.03538555e-03, -1.85583058e-03, -2.02248190e-03, -4.00871243e-03,\n",
              "       -3.10280855e-03, -7.77312555e-03, -2.57602223e-02,  4.24148005e-03,\n",
              "       -6.53485396e-03, -8.81459361e-05,  1.84451365e-03,  3.11598073e-02,\n",
              "        2.37739004e-02, -3.63282869e-03, -2.29995707e-04, -1.41313923e-04,\n",
              "        1.31965773e-03, -8.62024944e-04,  2.16400168e+01,  2.86091654e-03,\n",
              "       -1.61857173e-03, -2.15595042e+01,  1.37387350e-02,  1.60082843e-02,\n",
              "       -3.27603044e-03, -8.98279421e-04, -7.60691172e-04, -3.92302385e-03,\n",
              "       -1.64470735e-03, -6.61606106e-04, -1.07087299e-03, -2.33097196e-03,\n",
              "       -4.54172387e-03,  1.90286211e-03,  3.08040712e-03,  7.43655308e-03,\n",
              "       -7.84424381e-03,  1.60948049e-03, -2.32095824e-03, -4.04019346e-03,\n",
              "       -2.43221183e-03, -4.91376683e-03, -8.72688587e-04,  1.93140506e-06,\n",
              "        2.62080932e-03, -5.27253094e-03,  7.67975579e-03, -2.16904438e-03,\n",
              "       -1.73697186e-02,  1.52863438e-04, -8.76098694e-03,  8.41641518e-04,\n",
              "       -1.06440852e-06,  3.95586131e-04, -1.38143842e-02,  1.12558259e-03,\n",
              "        7.01753253e-03,  1.88640296e-03,  1.99292045e-02, -6.35010259e-03,\n",
              "       -7.32243231e-04,  1.14297674e-02,  1.10748634e-04, -1.52847164e-02,\n",
              "       -1.68832218e-03, -1.45863034e-03, -3.71879290e-03,  1.85107778e-02,\n",
              "       -1.03582333e-02, -6.92930317e-03, -1.93928887e-03,  1.93513197e-03,\n",
              "        2.80430896e-04, -2.99129395e-03,  7.80959045e-03,  1.93145038e-02,\n",
              "        2.99115714e-04,  9.61613540e-05,  1.86870001e-03,  1.39364093e-03,\n",
              "        6.22755149e-03, -1.47207896e-06, -7.51348311e-03,  2.88101819e-04,\n",
              "        5.74383686e-04, -3.64541274e-04, -5.99218252e-04, -3.01884776e-04,\n",
              "       -3.27983352e-02, -3.90739580e-02, -1.56177018e-03, -1.65417204e-04,\n",
              "        3.27125578e-03,  1.41586714e-03, -1.43706761e-03, -7.14010307e-04,\n",
              "       -1.28565016e-03, -4.67552916e-03, -3.10620712e-06, -1.87204159e-03,\n",
              "        8.86700708e-02, -1.92454365e-03, -1.58475623e-03, -3.16741612e-03,\n",
              "       -1.84744974e-03,  3.44852425e-03,  2.03748290e-03,  8.82952407e-03,\n",
              "       -1.78763576e-03,  3.45147597e-03,  4.38215496e-03, -2.44961406e-03,\n",
              "       -3.88917462e-03,  7.20384726e-04, -5.19956578e-04,  9.92845868e-03,\n",
              "       -3.92058655e-04,  4.67627962e-03,  6.82745087e-04,  4.19402030e-04,\n",
              "        2.96243678e-04,  2.43709695e-02, -1.57231524e-02, -4.91871067e-04,\n",
              "       -2.95054689e-03,  3.75571885e-03,  3.07214757e-03, -5.15386959e-04,\n",
              "       -1.30179947e-02, -2.36117060e-02,  4.65025222e-03, -3.82970883e-03,\n",
              "        6.08767563e-02, -4.45370296e-03, -3.62457422e-04, -2.90726525e-03,\n",
              "        2.06183037e-03,  7.15711820e-04,  1.05103305e-02, -8.82576917e-03,\n",
              "       -4.09015819e-03,  1.19648367e-02,  6.00202052e-03, -7.19484455e-03,\n",
              "       -1.95904927e-03,  2.90701142e-03, -4.05905687e-03, -1.59917373e-02,\n",
              "        1.53880446e-03,  1.33221869e-03,  4.17106664e-04,  4.48884875e-04,\n",
              "        4.49198391e-03,  1.08669419e-03, -4.13474421e-04, -1.13600500e-03,\n",
              "       -1.77595459e-03,  6.48660789e-03,  3.08304332e-03,  1.82313028e-02,\n",
              "        1.05052535e-03, -1.28783763e-03,  1.28572636e-03, -4.58923864e-04,\n",
              "       -1.07416929e-03, -6.71334052e-04,  9.01661069e-04, -7.66632881e-04,\n",
              "       -5.80334243e-06,  2.15976524e-03,  1.49061487e-02,  2.74123659e-03,\n",
              "       -6.18773146e-04, -4.86642525e-03,  3.54653245e-03,  4.59658707e-03,\n",
              "        1.61541939e-02, -6.78909418e-03,  3.72816669e-03, -4.06647210e-03,\n",
              "       -1.15764994e-03, -6.58794009e-03, -5.16729575e-04, -3.94581504e-03,\n",
              "        1.28643002e-02,  1.58307035e-02,  6.15420349e-03, -3.95318545e-04,\n",
              "        2.30889472e-02, -9.27758699e-05,  5.38446454e-05, -3.42899765e-04,\n",
              "       -1.31225977e-02, -8.96067296e-04, -1.92554135e-03, -1.24865699e-03,\n",
              "       -2.49906136e-03,  3.28507271e-02,  4.57215527e-03, -3.14075606e-02,\n",
              "        1.60986368e-02, -2.90025640e-03, -9.11278251e-04, -3.77635183e-03,\n",
              "        6.64959355e-03, -4.05803925e-04,  1.77043598e-03,  6.52725734e-03,\n",
              "       -4.34519258e-03,  2.07049030e-02, -1.36113934e-03, -3.97443108e-03,\n",
              "        1.21177170e-02, -5.87279912e-04,  2.36511230e-02, -1.47467796e-03,\n",
              "       -3.94135900e-05,  2.01743885e-02, -2.74472228e-03,  1.31536553e-02,\n",
              "        1.62332153e-03, -2.45492403e-03,  1.68799926e-03, -1.27912098e-02,\n",
              "        1.46467083e-02, -1.57032149e-03,  1.08664848e-05,  2.66983770e-03,\n",
              "       -3.34538425e-02,  5.34942222e-04,  4.28012683e-03,  1.82770937e-03,\n",
              "        3.18871385e-03, -1.87751009e-03,  6.05529652e-03,  4.18723983e-04,\n",
              "       -3.90323952e-03,  3.09768344e-03, -1.87740576e-05,  1.14932055e-01,\n",
              "       -4.06673097e-03,  3.37106250e-05, -3.61201859e-04, -1.26248340e-03,\n",
              "        8.61906968e-04,  4.42174537e-04,  2.12473204e-03,  7.31045794e-03,\n",
              "       -2.41114435e-04,  1.76239402e-03, -1.12039783e-03,  1.97180961e-03,\n",
              "        1.42518231e-03,  3.13252167e-04, -7.87551343e-03, -5.07854157e-04,\n",
              "       -6.50229790e-03, -2.00422126e-03,  9.06690992e-04,  7.38489142e-03,\n",
              "       -4.59660610e-03, -1.08587682e-03, -1.69736280e-03,  1.14531273e-03,\n",
              "        5.22268196e-03, -3.81015235e-03, -1.26440546e-03, -3.90996257e-04,\n",
              "        9.67870468e-04,  5.79112549e-03, -2.97693213e-03,  9.09536934e-04,\n",
              "       -8.12810023e-03, -8.45381284e-03,  1.82398566e-03,  4.59129483e-04,\n",
              "       -5.56952851e-04,  3.03000007e-03, -3.62183053e-03, -2.05800031e-03,\n",
              "       -5.47949556e-03,  5.83513462e-03,  2.95198286e-03, -6.60768355e-04,\n",
              "        7.87931542e-03,  5.73774700e-04,  6.15956092e-03, -3.90622009e-04,\n",
              "        1.67869797e-03,  6.82956373e-03, -5.06063911e-03,  5.49297655e-03,\n",
              "       -1.33663599e-03,  1.86112393e-04, -9.87356437e-03,  2.98582006e-03,\n",
              "        6.67663042e-04, -2.24273360e-03,  8.33107321e-03, -7.60397581e-04,\n",
              "        2.87467260e-04, -2.66232039e-05,  1.22498832e-03,  3.72658216e-05,\n",
              "       -1.04738194e-03, -6.74385611e-04,  2.32425098e-03,  3.56859043e-03,\n",
              "        5.15330557e-03, -3.36610747e-04,  1.19902201e-02,  4.27212462e-03,\n",
              "        2.50864690e-03, -3.15693233e-03, -9.09500579e-03, -1.80415041e-03,\n",
              "        7.50366502e-03])"
            ]
          },
          "metadata": {},
          "execution_count": 122
        }
      ]
    },
    {
      "cell_type": "code",
      "source": [
        "testing_returns = testing_data['Adj Close'].iloc[[0, len(testing_data['Adj Close']) - 1], :].transpose()\n",
        "testing_returns['returns'] = (testing_returns.iloc[:, 1] - testing_returns.iloc[:, 0]) / testing_returns.iloc[:, 0]"
      ],
      "metadata": {
        "id": "2L5y39OlITYC"
      },
      "execution_count": null,
      "outputs": []
    },
    {
      "cell_type": "code",
      "source": [
        "returns = testing_returns['returns'].values\n",
        "\n",
        "\n",
        "print(\"Our Model's Return in 2018: \", expected_return(returns, adjusted_w))\n",
        "print(\"S&P's Return in 2018: -0.065\")"
      ],
      "metadata": {
        "id": "fOjUe8xsI7ro",
        "outputId": "9fcca563-7256-4d12-e00d-51222f7f6fda",
        "colab": {
          "base_uri": "https://localhost:8080/"
        }
      },
      "execution_count": null,
      "outputs": [
        {
          "output_type": "stream",
          "name": "stdout",
          "text": [
            "Our Model's Return in 2018:  -0.06058012451362191\n",
            "S&P's Return in 2018: -0.065\n"
          ]
        }
      ]
    }
  ]
}